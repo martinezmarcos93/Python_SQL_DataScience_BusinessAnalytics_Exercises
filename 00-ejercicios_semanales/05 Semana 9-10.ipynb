{
 "cells": [
  {
   "cell_type": "markdown",
   "metadata": {},
   "source": [
    "**Desarrollo de una Aplicación Web con Backend:**"
   ]
  },
  {
   "cell_type": "markdown",
   "metadata": {},
   "source": [
    "Elije un lenguaje de programación para el backend (por ejemplo, Node.js con Express, Python con Django o Ruby con Ruby on Rails) y crea una aplicación web simple. La aplicación puede ser una lista de tareas, un blog o cualquier otro proyecto que te interese. Implementa la funcionalidad de registro de usuarios, autenticación y almacenamiento de datos en una base de datos.\n"
   ]
  },
  {
   "cell_type": "code",
   "execution_count": null,
   "metadata": {},
   "outputs": [],
   "source": []
  },
  {
   "cell_type": "markdown",
   "metadata": {},
   "source": [
    "Procesamiento y Análisis de Datos:"
   ]
  },
  {
   "cell_type": "markdown",
   "metadata": {},
   "source": [
    "Encuentra un conjunto de datos grande y realista que te interese (por ejemplo, datos de redes sociales, datos financieros o datos de sensores). Luego, crea un proyecto que implique la manipulación y análisis de estos datos. Puedes utilizar bibliotecas como pandas, NumPy y matplotlib en Python para realizar análisis y generar visualizaciones significativas.\n"
   ]
  },
  {
   "cell_type": "code",
   "execution_count": null,
   "metadata": {},
   "outputs": [],
   "source": []
  },
  {
   "cell_type": "markdown",
   "metadata": {},
   "source": [
    "Contribución a un Proyecto de Código Abierto:\n"
   ]
  },
  {
   "cell_type": "markdown",
   "metadata": {},
   "source": [
    "Investiga proyectos de código abierto relacionados con el backend y la manipulación de bases de datos grandes en plataformas como GitHub. Busca problemas etiquetados como \"beginner-friendly\" o \"good first issue\" y comienza a contribuir. Puedes trabajar en la solución de errores, la mejora de la documentación o la implementación de nuevas características.\n"
   ]
  },
  {
   "cell_type": "code",
   "execution_count": null,
   "metadata": {},
   "outputs": [],
   "source": []
  },
  {
   "cell_type": "markdown",
   "metadata": {},
   "source": [
    "Creación de una API RESTful:\n"
   ]
  },
  {
   "cell_type": "markdown",
   "metadata": {},
   "source": [
    "Diseña y desarrolla una API RESTful que permita a los usuarios realizar operaciones CRUD (Crear, Leer, Actualizar, Eliminar) en un conjunto de datos. Utiliza un marco de desarrollo adecuado para tu lenguaje de programación elegido. Documenta la API y crea ejemplos de solicitudes y respuestas.\n"
   ]
  },
  {
   "cell_type": "code",
   "execution_count": null,
   "metadata": {},
   "outputs": [],
   "source": []
  },
  {
   "cell_type": "markdown",
   "metadata": {},
   "source": [
    "Optimización de Consultas en una Aplicación Existente:"
   ]
  },
  {
   "cell_type": "markdown",
   "metadata": {},
   "source": [
    "Si tienes acceso a una aplicación existente que utiliza una base de datos grande, trabaja en la optimización de consultas. Identifica las consultas más lentas y aplica técnicas como la indexación, la caché o la reescritura de consultas para mejorar el rendimiento. Registra y compara los tiempos de ejecución antes y después de las optimizaciones.\n"
   ]
  },
  {
   "cell_type": "code",
   "execution_count": null,
   "metadata": {},
   "outputs": [],
   "source": []
  }
 ],
 "metadata": {
  "language_info": {
   "name": "python"
  },
  "orig_nbformat": 4
 },
 "nbformat": 4,
 "nbformat_minor": 2
}
