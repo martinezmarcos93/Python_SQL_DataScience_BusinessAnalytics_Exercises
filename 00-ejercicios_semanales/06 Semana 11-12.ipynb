{
 "cells": [
  {
   "cell_type": "markdown",
   "metadata": {},
   "source": [
    "**Creación de una Aplicación Web con Django:**"
   ]
  },
  {
   "cell_type": "markdown",
   "metadata": {},
   "source": [
    "Crea una aplicación web simple utilizando el framework Django. Esta aplicación podría ser un blog, un sistema de gestión de tareas o una aplicación de listado de productos. Implementa la funcionalidad de registro de usuarios, autenticación, creación y visualización de contenido. Utiliza la estructura de modelos, vistas y plantillas de Django.\n"
   ]
  },
  {
   "cell_type": "code",
   "execution_count": null,
   "metadata": {},
   "outputs": [],
   "source": []
  },
  {
   "cell_type": "markdown",
   "metadata": {},
   "source": [
    "Desarrollo de una API con Flask:"
   ]
  },
  {
   "cell_type": "markdown",
   "metadata": {},
   "source": [
    "Desarrolla una API RESTful utilizando Flask. Diseña una API que permita a los usuarios realizar operaciones CRUD en un recurso específico, como una lista de tareas o una colección de libros. Implementa rutas para crear, leer, actualizar y eliminar elementos. Utiliza extensiones de Flask para manejar la autenticación y la validación de datos.\n"
   ]
  },
  {
   "cell_type": "code",
   "execution_count": null,
   "metadata": {},
   "outputs": [],
   "source": []
  },
  {
   "cell_type": "markdown",
   "metadata": {},
   "source": [
    "Manipulación de Datos con pandas y NumPy:\n"
   ]
  },
  {
   "cell_type": "markdown",
   "metadata": {},
   "source": [
    "Encuentra un conjunto de datos de interés y realiza un proyecto de manipulación y análisis de datos utilizando pandas y NumPy. Carga el conjunto de datos, realiza limpieza de datos, calcula estadísticas descriptivas y crea visualizaciones para representar los hallazgos. Puedes explorar temas como análisis financiero, análisis de redes sociales o análisis de datos científicos."
   ]
  },
  {
   "cell_type": "code",
   "execution_count": null,
   "metadata": {},
   "outputs": [],
   "source": []
  },
  {
   "cell_type": "markdown",
   "metadata": {},
   "source": [
    "Acceso a una Base de Datos con SQLAlchemy:\n"
   ]
  },
  {
   "cell_type": "markdown",
   "metadata": {},
   "source": [
    "Crea un proyecto que implique el acceso a una base de datos utilizando SQLAlchemy. Diseña un modelo de datos que refleje una entidad real (por ejemplo, un catálogo de productos o una base de datos de películas). Implementa operaciones CRUD para interactuar con la base de datos y realiza consultas complejas utilizando SQLAlchemy.\n"
   ]
  },
  {
   "cell_type": "code",
   "execution_count": null,
   "metadata": {},
   "outputs": [],
   "source": []
  },
  {
   "cell_type": "markdown",
   "metadata": {},
   "source": [
    "Consumo de una API Externa con requests:\n"
   ]
  },
  {
   "cell_type": "markdown",
   "metadata": {},
   "source": [
    "Encuentra una API pública que te interese (por ejemplo, una API de pronóstico del tiempo o una API de datos de películas) y crea un programa en Python utilizando la biblioteca requests para consumir datos de esa API. Realiza solicitudes HTTP para obtener información y muestra los resultados de manera significativa.\n"
   ]
  },
  {
   "cell_type": "code",
   "execution_count": null,
   "metadata": {},
   "outputs": [],
   "source": []
  }
 ],
 "metadata": {
  "language_info": {
   "name": "python"
  },
  "orig_nbformat": 4
 },
 "nbformat": 4,
 "nbformat_minor": 2
}
