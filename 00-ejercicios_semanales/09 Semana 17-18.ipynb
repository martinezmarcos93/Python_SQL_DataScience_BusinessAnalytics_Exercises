{
 "cells": [
  {
   "cell_type": "markdown",
   "metadata": {},
   "source": [
    "**Patrones de Diseño en Python:**"
   ]
  },
  {
   "cell_type": "markdown",
   "metadata": {},
   "source": [
    "Implementación del Patrón MVC: Crea una aplicación web simple utilizando un framework como Flask o Django. Aplica el patrón Modelo-Vista-Controlador (MVC) para separar claramente la lógica de negocio, la presentación y el control. Muestra datos en una vista y permite realizar operaciones CRUD (Crear, Leer, Actualizar, Borrar) en un modelo de datos.\n"
   ]
  },
  {
   "cell_type": "code",
   "execution_count": null,
   "metadata": {},
   "outputs": [],
   "source": []
  },
  {
   "cell_type": "markdown",
   "metadata": {},
   "source": [
    "Patrón de Observador: Implementa el patrón de observador en Python. Crea un sistema donde un objeto (sujeto) notifica automáticamente a una lista de objetos (observadores) cuando se produce un cambio en su estado. Esto es útil, por ejemplo, para implementar la funcionalidad de notificación en una aplicación.\n"
   ]
  },
  {
   "cell_type": "code",
   "execution_count": null,
   "metadata": {},
   "outputs": [],
   "source": []
  },
  {
   "cell_type": "markdown",
   "metadata": {},
   "source": [
    "Fundamentos de la Ciencia de Datos:\n"
   ]
  },
  {
   "cell_type": "markdown",
   "metadata": {},
   "source": [
    "Recopilación y Limpieza de Datos: Encuentra un conjunto de datos público o utiliza una API para recopilar datos sobre un tema de tu interés. Luego, realiza un proceso de limpieza de datos en Python para abordar problemas como valores faltantes, duplicados y datos incorrectos. Utiliza bibliotecas como pandas para este propósito."
   ]
  },
  {
   "cell_type": "code",
   "execution_count": null,
   "metadata": {},
   "outputs": [],
   "source": []
  },
  {
   "cell_type": "markdown",
   "metadata": {},
   "source": [
    "Análisis Exploratorio de Datos (EDA): Desarrolla un proyecto de análisis exploratorio de datos en Python utilizando un conjunto de datos relevante. Carga y visualiza los datos utilizando bibliotecas como matplotlib y seaborn. Realiza análisis estadísticos básicos y crea visualizaciones que ayuden a comprender mejor los patrones en los datos.\n"
   ]
  },
  {
   "cell_type": "code",
   "execution_count": null,
   "metadata": {},
   "outputs": [],
   "source": []
  },
  {
   "cell_type": "markdown",
   "metadata": {},
   "source": [
    "Modelado Predictivo: Siéntete cómodo con scikit-learn, una biblioteca de aprendizaje automático en Python. Elije un conjunto de datos adecuado (como uno de los conjuntos de datos de ejemplo proporcionados por scikit-learn) y entrena un modelo predictivo utilizando algoritmos como regresión lineal, clasificación con Support Vector Machines (SVM) o clustering con k-Means. Evalúa el rendimiento del modelo y visualiza los resultados.\n"
   ]
  },
  {
   "cell_type": "code",
   "execution_count": null,
   "metadata": {},
   "outputs": [],
   "source": []
  }
 ],
 "metadata": {
  "language_info": {
   "name": "python"
  },
  "orig_nbformat": 4
 },
 "nbformat": 4,
 "nbformat_minor": 2
}
