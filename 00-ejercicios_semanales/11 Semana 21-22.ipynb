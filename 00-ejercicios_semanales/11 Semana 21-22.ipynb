{
 "cells": [
  {
   "cell_type": "markdown",
   "metadata": {},
   "source": [
    "**Aprendizaje automático (Machine Learning):**"
   ]
  },
  {
   "cell_type": "markdown",
   "metadata": {},
   "source": [
    "Regresión lineal con scikit-learn: Utiliza un conjunto de datos que contenga información numérica, como precios de viviendas y características de las casas. Aplica la regresión lineal utilizando la biblioteca scikit-learn para predecir los precios de las viviendas basándote en las características disponibles. Evalúa el rendimiento del modelo utilizando métricas como el error cuadrático medio (MSE) y el coeficiente de determinación (R^2).\n"
   ]
  },
  {
   "cell_type": "code",
   "execution_count": null,
   "metadata": {},
   "outputs": [],
   "source": []
  },
  {
   "cell_type": "markdown",
   "metadata": {},
   "source": [
    "Clasificación de datos con Random Forest: Encuentra un conjunto de datos que involucre la clasificación de elementos en categorías, como un conjunto de datos de clasificación de flores Iris. Utiliza el algoritmo Random Forest de scikit-learn para crear un modelo de clasificación. Evalúa el modelo utilizando métricas como precisión, recall y F1-score."
   ]
  },
  {
   "cell_type": "code",
   "execution_count": null,
   "metadata": {},
   "outputs": [],
   "source": []
  },
  {
   "cell_type": "markdown",
   "metadata": {},
   "source": [
    "SQL y bases de datos relacionales:\n"
   ]
  },
  {
   "cell_type": "markdown",
   "metadata": {},
   "source": [
    "Consultas SQL avanzadas en una base de datos de ventas: Supongamos que tienes una base de datos de ventas que contiene información sobre productos, clientes y ventas. Realiza una consulta SQL avanzada para encontrar el producto más vendido en cada categoría y el total de ventas para cada cliente en el último trimestre.\n"
   ]
  },
  {
   "cell_type": "code",
   "execution_count": null,
   "metadata": {},
   "outputs": [],
   "source": []
  },
  {
   "cell_type": "markdown",
   "metadata": {},
   "source": [
    "Subconsultas y funciones de ventana: Utiliza una base de datos de empleados que incluya información sobre salarios y departamentos. Realiza una subconsulta para encontrar el salario promedio por departamento y, luego, utiliza una función de ventana para calcular la diferencia entre el salario de cada empleado y el salario promedio de su departamento.\n"
   ]
  },
  {
   "cell_type": "code",
   "execution_count": null,
   "metadata": {},
   "outputs": [],
   "source": []
  }
 ],
 "metadata": {
  "language_info": {
   "name": "python"
  },
  "orig_nbformat": 4
 },
 "nbformat": 4,
 "nbformat_minor": 2
}
