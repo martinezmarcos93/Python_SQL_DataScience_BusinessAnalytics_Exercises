{
 "cells": [
  {
   "cell_type": "markdown",
   "metadata": {},
   "source": [
    "**Frameworks de Python para ciencia de datos:**"
   ]
  },
  {
   "cell_type": "markdown",
   "metadata": {},
   "source": [
    "TensorFlow para clasificación de imágenes: Utiliza TensorFlow para crear un modelo de aprendizaje profundo que pueda clasificar imágenes de un conjunto de datos popular como CIFAR-10 o Fashion MNIST. Entrena el modelo y evalúa su precisión en un conjunto de datos de prueba.\n"
   ]
  },
  {
   "cell_type": "code",
   "execution_count": null,
   "metadata": {},
   "outputs": [],
   "source": []
  },
  {
   "cell_type": "markdown",
   "metadata": {},
   "source": [
    "Scikit-learn para regresión: Utiliza Scikit-learn para realizar un análisis de regresión en un conjunto de datos de precios de viviendas. Divide los datos en conjuntos de entrenamiento y prueba, elige un algoritmo de regresión (por ejemplo, regresión lineal) y evalúa el rendimiento del modelo utilizando métricas como el error cuadrático medio (MSE) y el coeficiente de determinación (R^2).\n"
   ]
  },
  {
   "cell_type": "code",
   "execution_count": null,
   "metadata": {},
   "outputs": [],
   "source": []
  },
  {
   "cell_type": "markdown",
   "metadata": {},
   "source": [
    "Proyectos de ciencia de datos:\n"
   ]
  },
  {
   "cell_type": "markdown",
   "metadata": {},
   "source": [
    "Análisis de datos de redes sociales: Selecciona un conjunto de datos de redes sociales que contenga información sobre usuarios, publicaciones y relaciones entre usuarios. Realiza un proyecto de ciencia de datos que incluya la exploración de datos, visualización de redes sociales y análisis de la actividad de los usuarios, como la detección de comunidades o la identificación de influencers.\n"
   ]
  },
  {
   "cell_type": "code",
   "execution_count": null,
   "metadata": {},
   "outputs": [],
   "source": []
  },
  {
   "cell_type": "markdown",
   "metadata": {},
   "source": [
    "Predicción de precios de bienes raíces: Elije un conjunto de datos que contenga información sobre bienes raíces, como precios, ubicaciones y características de las propiedades. Desarrolla un proyecto de ciencia de datos que incluya la limpieza de datos, la visualización de la distribución de precios en un mapa y la creación de un modelo de regresión para predecir los precios de las propiedades en función de sus características.\n"
   ]
  },
  {
   "cell_type": "code",
   "execution_count": null,
   "metadata": {},
   "outputs": [],
   "source": []
  },
  {
   "cell_type": "markdown",
   "metadata": {},
   "source": [
    "Clasificación de enfermedades médicas: Encuentra un conjunto de datos relacionado con diagnósticos médicos y síntomas de pacientes. Crea un proyecto de ciencia de datos que involucre la exploración y visualización de datos médicos, así como la construcción de un modelo de clasificación (por ejemplo, utilizando Scikit-learn) para predecir enfermedades o diagnósticos en función de los síntomas y datos del paciente.\n"
   ]
  },
  {
   "cell_type": "code",
   "execution_count": null,
   "metadata": {},
   "outputs": [],
   "source": []
  }
 ],
 "metadata": {
  "language_info": {
   "name": "python"
  },
  "orig_nbformat": 4
 },
 "nbformat": 4,
 "nbformat_minor": 2
}
