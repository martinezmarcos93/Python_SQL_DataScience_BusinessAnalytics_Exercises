{
 "cells": [
  {
   "cell_type": "markdown",
   "metadata": {},
   "source": [
    "Escribe un programa en Python que solicite al usuario dos números y luego muestre el resultado de sumar esos dos números.\n"
   ]
  },
  {
   "cell_type": "code",
   "execution_count": null,
   "metadata": {},
   "outputs": [],
   "source": []
  },
  {
   "cell_type": "markdown",
   "metadata": {},
   "source": [
    "Crea un programa que genere una lista de números pares del 1 al 20 usando un bucle for y luego imprima esa lista.\n"
   ]
  },
  {
   "cell_type": "code",
   "execution_count": null,
   "metadata": {},
   "outputs": [],
   "source": []
  },
  {
   "cell_type": "markdown",
   "metadata": {},
   "source": [
    "Manipulación de listas y diccionarios:\n",
    "Dada una lista de nombres, crea un programa que filtre los nombres que comienzan con la letra 'A' y los almacene en una nueva lista.\n"
   ]
  },
  {
   "cell_type": "code",
   "execution_count": null,
   "metadata": {},
   "outputs": [],
   "source": []
  },
  {
   "cell_type": "markdown",
   "metadata": {},
   "source": [
    "Crea un diccionario que represente un catálogo de productos, donde las claves sean los nombres de los productos y los valores sean los precios. Luego, implementa una función que calcule el precio total de una lista de productos ingresados por el usuario.\n"
   ]
  },
  {
   "cell_type": "code",
   "execution_count": null,
   "metadata": {},
   "outputs": [],
   "source": []
  },
  {
   "cell_type": "markdown",
   "metadata": {},
   "source": [
    "Programación orientada a objetos:\n",
    "Define una clase llamada Persona con atributos como nombre, edad y género. Luego, crea un objeto de tipo Persona e imprime sus atributos.\n"
   ]
  },
  {
   "cell_type": "code",
   "execution_count": null,
   "metadata": {},
   "outputs": [],
   "source": []
  },
  {
   "cell_type": "markdown",
   "metadata": {},
   "source": [
    "Extiende la clase Persona con una subclase llamada Estudiante que tenga un atributo adicional, como \"curso\". Crea un objeto de tipo Estudiante y muestra tanto los atributos heredados como los atributos específicos de la subclase."
   ]
  },
  {
   "cell_type": "code",
   "execution_count": null,
   "metadata": {},
   "outputs": [],
   "source": []
  },
  {
   "cell_type": "markdown",
   "metadata": {},
   "source": [
    "Manipulación de archivos:\n",
    "Crea un programa que lea un archivo de texto que contiene una lista de nombres y apellidos, y luego cree un nuevo archivo que contenga solo los apellidos.\n"
   ]
  },
  {
   "cell_type": "code",
   "execution_count": null,
   "metadata": {},
   "outputs": [],
   "source": []
  },
  {
   "cell_type": "markdown",
   "metadata": {},
   "source": [
    "Escribe un programa que tome un archivo CSV con datos de ventas (columnas: producto, cantidad, precio) y calcule el total de ventas para cada producto. Luego, guarde estos resultados en un nuevo archivo CSV.\n"
   ]
  },
  {
   "cell_type": "code",
   "execution_count": null,
   "metadata": {},
   "outputs": [],
   "source": []
  },
  {
   "cell_type": "markdown",
   "metadata": {},
   "source": [
    "Uso de librerías populares:\n",
    "Utiliza la librería NumPy para crear un array con los números del 1 al 10, luego eleva todos los elementos al cuadrado y muestra el resultado.\n"
   ]
  },
  {
   "cell_type": "code",
   "execution_count": null,
   "metadata": {},
   "outputs": [],
   "source": []
  },
  {
   "cell_type": "markdown",
   "metadata": {},
   "source": [
    "Utiliza la librería pandas para cargar un conjunto de datos CSV que contenga información sobre ventas. Luego, realiza un análisis básico de los datos, como calcular la media, la mediana y la desviación estándar de los precios de los productos.\n"
   ]
  },
  {
   "cell_type": "code",
   "execution_count": null,
   "metadata": {},
   "outputs": [],
   "source": []
  }
 ],
 "metadata": {
  "language_info": {
   "name": "python"
  },
  "orig_nbformat": 4
 },
 "nbformat": 4,
 "nbformat_minor": 2
}
