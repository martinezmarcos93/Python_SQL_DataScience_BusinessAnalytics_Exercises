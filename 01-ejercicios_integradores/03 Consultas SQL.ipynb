{
 "cells": [
  {
   "cell_type": "markdown",
   "metadata": {},
   "source": [
    "Imagina que tienes una base de datos de empleados con una tabla llamada \"empleados\". Diseña una consulta SQL que muestre el nombre y salario de todos los empleados que ganen más de $50,000 al año.\n"
   ]
  },
  {
   "cell_type": "code",
   "execution_count": null,
   "metadata": {},
   "outputs": [],
   "source": []
  },
  {
   "cell_type": "markdown",
   "metadata": {},
   "source": [
    "Supongamos que tienes una base de datos de productos con dos tablas: \"productos\" y \"categorias\". Diseña una consulta SQL que muestre el nombre de los productos y sus categorías correspondientes.\n"
   ]
  },
  {
   "cell_type": "code",
   "execution_count": null,
   "metadata": {},
   "outputs": [],
   "source": []
  },
  {
   "cell_type": "markdown",
   "metadata": {},
   "source": [
    "Creación de tablas y relaciones:\n",
    "Crea una base de datos llamada \"biblioteca\" con dos tablas: \"libros\" y \"autores\". Define una relación de uno a muchos entre los autores y los libros, de modo que un autor pueda tener varios libros en la tabla \"libros\".\n"
   ]
  },
  {
   "cell_type": "code",
   "execution_count": null,
   "metadata": {},
   "outputs": [],
   "source": []
  },
  {
   "cell_type": "markdown",
   "metadata": {},
   "source": [
    "Expande la base de datos \"biblioteca\" agregando una nueva tabla llamada \"editoriales\". Define una relación entre los libros y las editoriales de manera que un libro pueda pertenecer a una editorial específica."
   ]
  },
  {
   "cell_type": "code",
   "execution_count": null,
   "metadata": {},
   "outputs": [],
   "source": []
  },
  {
   "cell_type": "markdown",
   "metadata": {},
   "source": [
    "Actualización y eliminación de datos:\n",
    "En la base de datos \"empleados\", actualiza el salario de todos los empleados en el departamento de ventas (\"departamento = 'Ventas'\") para aumentarlo en un 10%.\n"
   ]
  },
  {
   "cell_type": "code",
   "execution_count": null,
   "metadata": {},
   "outputs": [],
   "source": []
  },
  {
   "cell_type": "markdown",
   "metadata": {},
   "source": [
    "En la base de datos \"productos\", elimina todos los productos que tengan un precio inferior a $10.\n"
   ]
  },
  {
   "cell_type": "code",
   "execution_count": null,
   "metadata": {},
   "outputs": [],
   "source": []
  },
  {
   "cell_type": "markdown",
   "metadata": {},
   "source": [
    "Consultas avanzadas:\n",
    " \n",
    "En una base de datos de pedidos con tres tablas: \"clientes\", \"pedidos\" y \"productos\", diseña una consulta que muestre el nombre del cliente y la cantidad total gastada en todos sus pedidos.\n"
   ]
  },
  {
   "cell_type": "code",
   "execution_count": null,
   "metadata": {},
   "outputs": [],
   "source": []
  },
  {
   "cell_type": "markdown",
   "metadata": {},
   "source": [
    "Utiliza una base de datos de estudiantes con tablas \"estudiantes\" y \"cursos\" para diseñar una consulta que muestre los nombres de los estudiantes que están inscritos en más de tres cursos.\n"
   ]
  },
  {
   "cell_type": "code",
   "execution_count": null,
   "metadata": {},
   "outputs": [],
   "source": []
  },
  {
   "cell_type": "markdown",
   "metadata": {},
   "source": [
    "Optimización de consultas:\n",
    "Toma una consulta SQL existente que involucre múltiples tablas y utiliza índices para mejorar su rendimiento. Mide el tiempo de ejecución antes y después de aplicar la optimización.\n"
   ]
  },
  {
   "cell_type": "code",
   "execution_count": null,
   "metadata": {},
   "outputs": [],
   "source": []
  },
  {
   "cell_type": "markdown",
   "metadata": {},
   "source": [
    "Diseña una consulta SQL compleja que utilice una subconsulta para recuperar información específica de la base de datos. Luego, utiliza un índice o una estrategia de optimización adecuada para acelerar la consulta.\n"
   ]
  },
  {
   "cell_type": "code",
   "execution_count": null,
   "metadata": {},
   "outputs": [],
   "source": []
  }
 ],
 "metadata": {
  "language_info": {
   "name": "python"
  },
  "orig_nbformat": 4
 },
 "nbformat": 4,
 "nbformat_minor": 2
}
