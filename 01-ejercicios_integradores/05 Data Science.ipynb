{
 "cells": [
  {
   "cell_type": "markdown",
   "metadata": {},
   "source": [
    "Usa NumPy y pandas para cargar un conjunto de datos tabulares (por ejemplo, un archivo CSV) que contenga información de ventas. Realiza las siguientes tareas:\n",
    " \n",
    "Calcula el total de ventas por producto.\n",
    "Encuentra el producto más vendido.\n",
    "Crea un gráfico de barras utilizando Matplotlib o Seaborn para visualizar las ventas por producto.\n"
   ]
  },
  {
   "cell_type": "code",
   "execution_count": null,
   "metadata": {},
   "outputs": [],
   "source": []
  },
  {
   "cell_type": "markdown",
   "metadata": {},
   "source": [
    "Utiliza SciPy para realizar una tarea de optimización. Define un problema de optimización simple, como encontrar los valores que maximizan una función matemática sujeta a ciertas restricciones. Resuelve el problema utilizando las funciones de optimización de SciPy.\n"
   ]
  },
  {
   "cell_type": "code",
   "execution_count": null,
   "metadata": {},
   "outputs": [],
   "source": []
  }
 ],
 "metadata": {
  "language_info": {
   "name": "python"
  },
  "orig_nbformat": 4
 },
 "nbformat": 4,
 "nbformat_minor": 2
}
