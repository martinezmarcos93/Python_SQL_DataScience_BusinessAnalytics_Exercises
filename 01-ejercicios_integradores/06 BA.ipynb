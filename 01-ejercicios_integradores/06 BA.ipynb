{
 "cells": [
  {
   "cell_type": "markdown",
   "metadata": {},
   "source": [
    "Con la biblioteca Statsmodels, carga un conjunto de datos que contenga información sobre el desempeño de ventas de una empresa a lo largo del tiempo. Realiza un análisis de series temporales para identificar patrones de ventas y tendencias a lo largo de los años.\n"
   ]
  },
  {
   "cell_type": "code",
   "execution_count": null,
   "metadata": {},
   "outputs": [],
   "source": []
  },
  {
   "cell_type": "markdown",
   "metadata": {},
   "source": [
    "Utiliza Tableau para crear un informe interactivo que muestre métricas clave de rendimiento de una empresa, como ingresos, costos y ganancias. Agrega filtros interactivos para permitir a los usuarios explorar los datos de manera personalizada.\n"
   ]
  },
  {
   "cell_type": "code",
   "execution_count": null,
   "metadata": {},
   "outputs": [],
   "source": []
  }
 ],
 "metadata": {
  "language_info": {
   "name": "python"
  },
  "orig_nbformat": 4
 },
 "nbformat": 4,
 "nbformat_minor": 2
}
