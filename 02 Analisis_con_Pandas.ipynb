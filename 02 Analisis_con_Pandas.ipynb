{
 "cells": [
  {
   "cell_type": "markdown",
   "metadata": {},
   "source": [
    "Carga un conjunto de datos de ventas en formato CSV usando pandas. Luego, realiza las siguientes tareas:\n",
    " \n",
    "Elimina filas con valores faltantes.\n",
    "Filtra el conjunto de datos para mostrar solo las ventas de un producto específico.\n",
    "Calcula el total de ventas por mes y crea un gráfico de barras para visualizarlo.\n",
    "Utiliza un conjunto de datos que contenga información sobre películas, como título, género y calificación. Realiza las siguientes operaciones:\n",
    " \n"
   ]
  },
  {
   "cell_type": "code",
   "execution_count": null,
   "metadata": {},
   "outputs": [],
   "source": []
  },
  {
   "cell_type": "markdown",
   "metadata": {},
   "source": [
    "Encuentra el género de película más común.\n",
    "Calcula la calificación promedio de las películas en cada género.\n",
    "Crea un gráfico de barras para mostrar la cantidad de películas por género."
   ]
  },
  {
   "cell_type": "code",
   "execution_count": null,
   "metadata": {},
   "outputs": [],
   "source": []
  },
  {
   "cell_type": "markdown",
   "metadata": {},
   "source": [
    "Visualización de datos con matplotlib o Seaborn:\n",
    " \n",
    "Utiliza un conjunto de datos históricos de precios de acciones y crea un gráfico de líneas que muestre la tendencia de los precios de una acción específica a lo largo del tiempo. Añade etiquetas y un título informativo al gráfico.\n"
   ]
  },
  {
   "cell_type": "code",
   "execution_count": null,
   "metadata": {},
   "outputs": [],
   "source": []
  },
  {
   "cell_type": "markdown",
   "metadata": {},
   "source": [
    "Toma un conjunto de datos que contenga información de encuestas sobre preferencias alimenticias. Crea un gráfico de dispersión (scatter plot) que relacione la edad de los encuestados con su preferencia por comida picante. Añade una línea de tendencia al gráfico.\n"
   ]
  },
  {
   "cell_type": "code",
   "execution_count": null,
   "metadata": {},
   "outputs": [],
   "source": []
  },
  {
   "cell_type": "markdown",
   "metadata": {},
   "source": [
    "Machine Learning básico:\n",
    "Utiliza un conjunto de datos que contenga información sobre el tamaño de viviendas y sus precios de venta. Implementa un modelo de regresión lineal simple para predecir el precio de una vivienda en función de su tamaño. Luego, evalúa el rendimiento del modelo utilizando métricas como el error cuadrático medio (MSE).\n"
   ]
  },
  {
   "cell_type": "code",
   "execution_count": null,
   "metadata": {},
   "outputs": [],
   "source": []
  },
  {
   "cell_type": "markdown",
   "metadata": {},
   "source": [
    "Toma un conjunto de datos que incluya características de flores y su especie correspondiente. Implementa un modelo de clasificación utilizando el algoritmo k-Nearest Neighbors (k-NN) para predecir la especie de una flor en función de sus características. Evalúa el modelo utilizando la precisión y crea una matriz de confusión.\n"
   ]
  },
  {
   "cell_type": "code",
   "execution_count": null,
   "metadata": {},
   "outputs": [],
   "source": []
  },
  {
   "cell_type": "markdown",
   "metadata": {},
   "source": [
    "Proyecto de análisis de datos:\n",
    "Escoge un conjunto de datos que te interese, como datos climáticos, datos de redes sociales o datos de salud. Realiza un análisis completo que incluya la limpieza de datos, la generación de visualizaciones significativas y la identificación de patrones interesantes en los datos.\n"
   ]
  },
  {
   "cell_type": "code",
   "execution_count": null,
   "metadata": {},
   "outputs": [],
   "source": []
  },
  {
   "cell_type": "markdown",
   "metadata": {},
   "source": [
    "Elige un conjunto de datos que contenga información sobre reseñas de películas o productos. Realiza un proyecto de análisis de sentimiento utilizando técnicas de procesamiento de lenguaje natural (NLP) para determinar la polaridad de las reseñas (positivas, negativas o neutras). Presenta los resultados de manera clara y visual con gráficos.\n"
   ]
  },
  {
   "cell_type": "code",
   "execution_count": null,
   "metadata": {},
   "outputs": [],
   "source": []
  }
 ],
 "metadata": {
  "language_info": {
   "name": "python"
  },
  "orig_nbformat": 4
 },
 "nbformat": 4,
 "nbformat_minor": 2
}
