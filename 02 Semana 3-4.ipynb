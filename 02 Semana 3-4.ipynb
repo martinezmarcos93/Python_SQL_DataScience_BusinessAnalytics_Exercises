{
 "cells": [
  {
   "cell_type": "markdown",
   "metadata": {},
   "source": [
    "**Consultas SQL Avanzadas:**"
   ]
  },
  {
   "cell_type": "markdown",
   "metadata": {},
   "source": [
    "Crea una base de datos que almacene información sobre una biblioteca. Diseña una consulta SQL que recupere todos los libros prestados por un cliente específico en un período de tiempo determinado utilizando operaciones de JOIN y condiciones de filtro.\n"
   ]
  },
  {
   "cell_type": "code",
   "execution_count": null,
   "metadata": {},
   "outputs": [],
   "source": []
  },
  {
   "cell_type": "markdown",
   "metadata": {},
   "source": [
    "Índices y Optimización de Consultas:"
   ]
  },
  {
   "cell_type": "markdown",
   "metadata": {},
   "source": [
    "Utiliza una base de datos con una gran cantidad de registros. Crea un índice en una columna específica y compara el tiempo necesario para ejecutar una consulta antes y después de crear el índice. Observa cómo mejora el rendimiento.\n"
   ]
  },
  {
   "cell_type": "code",
   "execution_count": null,
   "metadata": {},
   "outputs": [],
   "source": []
  },
  {
   "cell_type": "markdown",
   "metadata": {},
   "source": [
    "Modelado de Datos - Esquema de Base de Datos:\n"
   ]
  },
  {
   "cell_type": "markdown",
   "metadata": {},
   "source": [
    "Diseña un esquema de base de datos para una tienda en línea que vende productos electrónicos. Define las tablas necesarias, como \"Productos\", \"Clientes\" y \"Pedidos\", y establece las relaciones entre ellas. Utiliza notación ER o cualquier otra de tu elección."
   ]
  },
  {
   "cell_type": "code",
   "execution_count": null,
   "metadata": {},
   "outputs": [],
   "source": []
  },
  {
   "cell_type": "markdown",
   "metadata": {},
   "source": [
    "Normalización de Datos:\n"
   ]
  },
  {
   "cell_type": "markdown",
   "metadata": {},
   "source": [
    "Toma un esquema de base de datos existente y evalúa su nivel de normalización. Identifica las tablas y columnas que no cumplen con al menos la tercera forma normal (3NF). Luego, realiza las modificaciones necesarias para normalizar la base de datos.\n"
   ]
  },
  {
   "cell_type": "code",
   "execution_count": null,
   "metadata": {},
   "outputs": [],
   "source": []
  },
  {
   "cell_type": "markdown",
   "metadata": {},
   "source": [
    "Optimización de Consultas - Reescritura:\n"
   ]
  },
  {
   "cell_type": "markdown",
   "metadata": {},
   "source": [
    "Escribe una consulta SQL compleja que obtenga información de varias tablas y realice operaciones de agregación. Luego, reescribe la consulta de manera más eficiente, dividiéndola en pasos intermedios y utilizando subconsultas si es necesario para reducir la carga de trabajo del servidor de base de datos.\n"
   ]
  },
  {
   "cell_type": "code",
   "execution_count": null,
   "metadata": {},
   "outputs": [],
   "source": []
  }
 ],
 "metadata": {
  "language_info": {
   "name": "python"
  },
  "orig_nbformat": 4
 },
 "nbformat": 4,
 "nbformat_minor": 2
}
