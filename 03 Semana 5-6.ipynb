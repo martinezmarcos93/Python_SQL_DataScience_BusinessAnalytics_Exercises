{
 "cells": [
  {
   "cell_type": "markdown",
   "metadata": {},
   "source": [
    "**Comunicación HTTP:**"
   ]
  },
  {
   "cell_type": "markdown",
   "metadata": {},
   "source": [
    "Utiliza una herramienta de desarrollo web, como Postman o cURL, para enviar solicitudes HTTP a un servidor de prueba. Realiza solicitudes GET, POST, PUT y DELETE a una API de ejemplo (por ejemplo, una API de pronóstico del tiempo o de noticias) y observa las respuestas. Familiarízate con los códigos de estado HTTP y cómo interpretarlos.\n"
   ]
  },
  {
   "cell_type": "code",
   "execution_count": null,
   "metadata": {},
   "outputs": [],
   "source": []
  },
  {
   "cell_type": "markdown",
   "metadata": {},
   "source": [
    "Manejo de Solicitudes y Respuestas:\n"
   ]
  },
  {
   "cell_type": "markdown",
   "metadata": {},
   "source": [
    "Crea un servidor web simple en un lenguaje de programación de tu elección (por ejemplo, Python con Flask o Node.js con Express). Implementa rutas que manejen diferentes tipos de solicitudes HTTP. Luego, crea un cliente que envíe solicitudes a tu servidor y procese las respuestas recibidas.\n"
   ]
  },
  {
   "cell_type": "code",
   "execution_count": null,
   "metadata": {},
   "outputs": [],
   "source": []
  },
  {
   "cell_type": "markdown",
   "metadata": {},
   "source": [
    "Pandas - Manipulación de Datos:"
   ]
  },
  {
   "cell_type": "markdown",
   "metadata": {},
   "source": [
    "Descarga un conjunto de datos en formato CSV o Excel que contenga información relevante para ti (por ejemplo, datos de ventas, datos climáticos, etc.). Utiliza la biblioteca pandas en Python para cargar el conjunto de datos en un DataFrame. Realiza operaciones como filtrado de filas, selección de columnas y cálculos estadísticos simples. Genera gráficos básicos para visualizar los datos.\n"
   ]
  },
  {
   "cell_type": "code",
   "execution_count": null,
   "metadata": {},
   "outputs": [],
   "source": []
  },
  {
   "cell_type": "markdown",
   "metadata": {},
   "source": [
    "NumPy - Operaciones Numéricas:"
   ]
  },
  {
   "cell_type": "markdown",
   "metadata": {},
   "source": [
    "Crea un ndarray de NumPy que represente una matriz de datos ficticios, como puntuaciones de pruebas o datos de sensores. Realiza operaciones matemáticas y estadísticas en la matriz, como el cálculo de la media, la desviación estándar y la multiplicación de matrices. Explora algunas de las funciones más utilizadas en NumPy.\n"
   ]
  },
  {
   "cell_type": "code",
   "execution_count": null,
   "metadata": {},
   "outputs": [],
   "source": []
  },
  {
   "cell_type": "markdown",
   "metadata": {},
   "source": [
    "Proyecto de Ciencia de Datos:\n"
   ]
  },
  {
   "cell_type": "markdown",
   "metadata": {},
   "source": [
    "Elige un conjunto de datos interesante, como datos de películas, datos de redes sociales o datos de salud. Utiliza pandas y NumPy para cargar, limpiar y explorar el conjunto de datos. Realiza análisis descriptivos, como la generación de estadísticas resumidas y visualizaciones. Proporciona conclusiones o insights basados en tu análisis.\n"
   ]
  },
  {
   "cell_type": "code",
   "execution_count": null,
   "metadata": {},
   "outputs": [],
   "source": []
  }
 ],
 "metadata": {
  "language_info": {
   "name": "python"
  },
  "orig_nbformat": 4
 },
 "nbformat": 4,
 "nbformat_minor": 2
}
