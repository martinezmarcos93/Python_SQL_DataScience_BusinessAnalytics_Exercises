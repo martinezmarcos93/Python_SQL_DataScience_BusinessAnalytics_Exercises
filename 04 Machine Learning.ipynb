{
 "cells": [
  {
   "cell_type": "markdown",
   "metadata": {},
   "source": [
    "Utilizando la biblioteca scikit-learn, carga un conjunto de datos de clasificación (por ejemplo, el conjunto de datos Iris) y entrena un modelo de clasificación, como una Máquina de Vectores de Soporte (SVM), para predecir las clases de los datos. Evalúa la precisión del modelo en un conjunto de prueba.\n"
   ]
  },
  {
   "cell_type": "code",
   "execution_count": null,
   "metadata": {},
   "outputs": [],
   "source": []
  },
  {
   "cell_type": "markdown",
   "metadata": {},
   "source": [
    "Emplea la biblioteca XGBoost para llevar a cabo una tarea de regresión. Carga un conjunto de datos de precios de viviendas y entrena un modelo de regresión utilizando XGBoost para predecir los precios de las viviendas. Evalúa el rendimiento del modelo utilizando métricas de regresión como el error cuadrático medio (MSE).\n"
   ]
  },
  {
   "cell_type": "code",
   "execution_count": null,
   "metadata": {},
   "outputs": [],
   "source": []
  }
 ],
 "metadata": {
  "language_info": {
   "name": "python"
  },
  "orig_nbformat": 4
 },
 "nbformat": 4,
 "nbformat_minor": 2
}
