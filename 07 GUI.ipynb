{
 "cells": [
  {
   "cell_type": "markdown",
   "metadata": {},
   "source": [
    "Utiliza PyQt para crear una aplicación de escritorio que permita a los usuarios ingresar datos, realizar cálculos y ver los resultados en una interfaz gráfica. Por ejemplo, puedes crear una calculadora con una interfaz de usuario amigable.\n"
   ]
  },
  {
   "cell_type": "code",
   "execution_count": null,
   "metadata": {},
   "outputs": [],
   "source": []
  },
  {
   "cell_type": "markdown",
   "metadata": {},
   "source": [
    "Emplea Tkinter para construir una aplicación que actúe como un organizador de tareas. Los usuarios deben poder agregar, eliminar y marcar como completadas las tareas a través de la interfaz gráfica.\n"
   ]
  },
  {
   "cell_type": "code",
   "execution_count": null,
   "metadata": {},
   "outputs": [],
   "source": []
  }
 ],
 "metadata": {
  "language_info": {
   "name": "python"
  },
  "orig_nbformat": 4
 },
 "nbformat": 4,
 "nbformat_minor": 2
}
