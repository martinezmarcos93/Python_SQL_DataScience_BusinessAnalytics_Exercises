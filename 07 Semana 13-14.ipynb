{
 "cells": [
  {
   "cell_type": "markdown",
   "metadata": {},
   "source": [
    "**Interacción con Bases de Datos utilizando SQLAlchemy:**"
   ]
  },
  {
   "cell_type": "markdown",
   "metadata": {},
   "source": [
    "Crea una aplicación Python que utilice SQLAlchemy para interactuar con una base de datos. Diseña una base de datos simple, como una lista de tareas pendientes o un catálogo de productos. Implementa operaciones CRUD (Crear, Leer, Actualizar, Eliminar) para gestionar los datos en la base de datos utilizando SQLAlchemy.\n"
   ]
  },
  {
   "cell_type": "code",
   "execution_count": null,
   "metadata": {},
   "outputs": [],
   "source": []
  },
  {
   "cell_type": "markdown",
   "metadata": {},
   "source": [
    "Pruebas Unitarias con unittest:\n"
   ]
  },
  {
   "cell_type": "markdown",
   "metadata": {},
   "source": [
    "Escribe pruebas unitarias para una función o clase Python utilizando el módulo unittest. Puedes elegir una función o clase que hayas creado previamente en tu proyecto o crear una nueva. Define casos de prueba que verifiquen diferentes aspectos de su comportamiento, como entrada y salida esperada, manejo de errores y condiciones límite.\n"
   ]
  },
  {
   "cell_type": "code",
   "execution_count": null,
   "metadata": {},
   "outputs": [],
   "source": []
  },
  {
   "cell_type": "markdown",
   "metadata": {},
   "source": [
    "Pruebas Unitarias con pytest:\n"
   ]
  },
  {
   "cell_type": "markdown",
   "metadata": {},
   "source": [
    "Aprende a escribir pruebas unitarias utilizando el framework pytest. Elige una función o clase de tu código y escribe casos de prueba utilizando la sintaxis simple y expresiva de pytest. Experimenta con características avanzadas de pytest, como parametrización de pruebas y el uso de fixtures para configurar y limpiar el entorno de prueba.\n"
   ]
  },
  {
   "cell_type": "code",
   "execution_count": null,
   "metadata": {},
   "outputs": [],
   "source": []
  },
  {
   "cell_type": "markdown",
   "metadata": {},
   "source": [
    "Integración de Pruebas Unitarias en tu Proyecto:"
   ]
  },
  {
   "cell_type": "markdown",
   "metadata": {},
   "source": [
    "Integra pruebas unitarias en uno de tus proyectos previos. Elije un componente o módulo importante de tu proyecto y escribe un conjunto de pruebas unitarias para él. Asegúrate de cubrir diferentes caminos de ejecución y escenarios posibles. Ejecuta las pruebas regularmente para garantizar que tu código siga siendo funcional.\n"
   ]
  },
  {
   "cell_type": "code",
   "execution_count": null,
   "metadata": {},
   "outputs": [],
   "source": []
  },
  {
   "cell_type": "markdown",
   "metadata": {},
   "source": [
    "Cobertura de Código con Coverage.py:"
   ]
  },
  {
   "cell_type": "markdown",
   "metadata": {},
   "source": [
    "Utiliza la herramienta coverage.py para medir la cobertura de código de tu proyecto. Ejecuta tus pruebas unitarias y genera un informe de cobertura que muestre qué porcentaje del código fuente está cubierto por las pruebas. Identifica áreas de código que necesiten una mayor cobertura y escribe pruebas adicionales según sea necesario.\n"
   ]
  },
  {
   "cell_type": "code",
   "execution_count": null,
   "metadata": {},
   "outputs": [],
   "source": []
  }
 ],
 "metadata": {
  "language_info": {
   "name": "python"
  },
  "orig_nbformat": 4
 },
 "nbformat": 4,
 "nbformat_minor": 2
}
