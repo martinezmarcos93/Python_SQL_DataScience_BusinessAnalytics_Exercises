{
 "cells": [
  {
   "cell_type": "markdown",
   "metadata": {},
   "source": [
    "Utiliza la biblioteca sqlite3 para crear una base de datos SQLite que almacene información sobre libros y autores. Define tablas para ambos y establece una relación entre ellos. Luego, inserta datos de ejemplo en ambas tablas.\n"
   ]
  },
  {
   "cell_type": "code",
   "execution_count": null,
   "metadata": {},
   "outputs": [],
   "source": []
  },
  {
   "cell_type": "markdown",
   "metadata": {},
   "source": [
    "Emplea SQLAlchemy junto con pandas para conectarte a una base de datos SQL existente (por ejemplo, MySQL) que contenga información de ventas. Realiza una consulta que recupere datos de ventas de productos en un período de tiempo específico y luego utiliza pandas para realizar un análisis adicional, como calcular el total de ventas por categoría de productos.\n"
   ]
  },
  {
   "cell_type": "code",
   "execution_count": null,
   "metadata": {},
   "outputs": [],
   "source": []
  }
 ],
 "metadata": {
  "language_info": {
   "name": "python"
  },
  "orig_nbformat": 4
 },
 "nbformat": 4,
 "nbformat_minor": 2
}
