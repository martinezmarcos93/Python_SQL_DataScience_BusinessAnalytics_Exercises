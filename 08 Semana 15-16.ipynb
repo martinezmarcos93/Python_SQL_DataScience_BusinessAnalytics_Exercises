{
 "cells": [
  {
   "cell_type": "markdown",
   "metadata": {},
   "source": [
    "**Optimización de Consultas SQL:**"
   ]
  },
  {
   "cell_type": "markdown",
   "metadata": {},
   "source": [
    "Utiliza una base de datos que hayas trabajado previamente y que contenga una cantidad significativa de datos. Diseña una consulta SQL que, inicialmente, tenga un rendimiento subóptimo. Luego, optimiza la consulta utilizando índices, técnicas de JOIN eficientes o estructuras de datos adecuadas. Mide y compara el tiempo de ejecución antes y después de la optimización.\n"
   ]
  },
  {
   "cell_type": "code",
   "execution_count": null,
   "metadata": {},
   "outputs": [],
   "source": []
  },
  {
   "cell_type": "markdown",
   "metadata": {},
   "source": [
    "Implementación de Caché:\n"
   ]
  },
  {
   "cell_type": "markdown",
   "metadata": {},
   "source": [
    "En una aplicación backend que hayas desarrollado previamente, implementa un sistema de almacenamiento en caché utilizando una biblioteca de Python como Redis o Memcached. Selecciona una parte crítica de tu aplicación y cachea los resultados para reducir la carga en la base de datos y mejorar el tiempo de respuesta.\n"
   ]
  },
  {
   "cell_type": "code",
   "execution_count": null,
   "metadata": {},
   "outputs": [],
   "source": []
  },
  {
   "cell_type": "markdown",
   "metadata": {},
   "source": [
    "Seguridad en una API RESTful:\n"
   ]
  },
  {
   "cell_type": "markdown",
   "metadata": {},
   "source": [
    "Crea una API RESTful utilizando un framework web como Flask o Django. Luego, implementa medidas de seguridad para protegerla contra ataques comunes, como inyección de SQL y XSS. Utiliza bibliotecas de seguridad de Python, como SQLAlchemy para prevenir la inyección de SQL y Flask-Security para manejar la autenticación y autorización de manera segura.\n"
   ]
  },
  {
   "cell_type": "code",
   "execution_count": null,
   "metadata": {},
   "outputs": [],
   "source": []
  },
  {
   "cell_type": "markdown",
   "metadata": {},
   "source": [
    "Configuración de Roles y Permisos en Bases de Datos:\n"
   ]
  },
  {
   "cell_type": "markdown",
   "metadata": {},
   "source": [
    "En una base de datos que estés utilizando, configura roles y permisos de usuario de manera que los usuarios tengan acceso solo a las partes de la base de datos que les corresponden. Define diferentes roles con diferentes niveles de acceso y verifica que los usuarios solo puedan realizar acciones permitidas por sus roles.\n"
   ]
  },
  {
   "cell_type": "code",
   "execution_count": null,
   "metadata": {},
   "outputs": [],
   "source": []
  },
  {
   "cell_type": "markdown",
   "metadata": {},
   "source": [
    "Auditoría de Seguridad de Base de Datos:\n"
   ]
  },
  {
   "cell_type": "markdown",
   "metadata": {},
   "source": [
    "Establece una auditoría de seguridad en una base de datos que contenga datos críticos. Registra y revisa los eventos de seguridad, como intentos de acceso no autorizado o modificaciones en datos sensibles. Utiliza las herramientas proporcionadas por el sistema de gestión de bases de datos o bibliotecas de auditoría de seguridad de Python para implementar esta funcionalidad.\n"
   ]
  },
  {
   "cell_type": "code",
   "execution_count": null,
   "metadata": {},
   "outputs": [],
   "source": []
  }
 ],
 "metadata": {
  "language_info": {
   "name": "python"
  },
  "orig_nbformat": 4
 },
 "nbformat": 4,
 "nbformat_minor": 2
}
