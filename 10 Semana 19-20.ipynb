{
 "cells": [
  {
   "cell_type": "markdown",
   "metadata": {},
   "source": [
    "**Manipulación de datos con Python:**"
   ]
  },
  {
   "cell_type": "markdown",
   "metadata": {},
   "source": [
    "Manipulación avanzada de datos con pandas: Encuentra un conjunto de datos interesante, como uno relacionado con finanzas o redes sociales. Utiliza pandas para realizar una manipulación avanzada de datos, que incluya la agregación de datos temporales, la creación de nuevas columnas calculadas y la segmentación de datos basada en múltiples condiciones. Luego, presenta tus hallazgos mediante visualizaciones.\n"
   ]
  },
  {
   "cell_type": "code",
   "execution_count": null,
   "metadata": {},
   "outputs": [],
   "source": []
  },
  {
   "cell_type": "markdown",
   "metadata": {},
   "source": [
    "Procesamiento de datos con NumPy: Crea un conjunto de datos simulado que contenga datos numéricos y aplícale una serie de transformaciones y cálculos utilizando NumPy. Realiza operaciones de álgebra lineal, como multiplicación de matrices y descomposición de valores singulares (SVD). Visualiza los resultados de tus operaciones utilizando matplotlib.\n"
   ]
  },
  {
   "cell_type": "code",
   "execution_count": null,
   "metadata": {},
   "outputs": [],
   "source": []
  },
  {
   "cell_type": "markdown",
   "metadata": {},
   "source": [
    "Análisis exploratorio de datos:\n"
   ]
  },
  {
   "cell_type": "markdown",
   "metadata": {},
   "source": [
    "Análisis de datos de ventas con matplotlib: Utiliza un conjunto de datos de ventas que contenga información de productos, clientes y ventas a lo largo del tiempo. Utiliza matplotlib para crear un gráfico de línea que muestre las tendencias de ventas a lo largo de los meses. Luego, crea un gráfico de barras apiladas para visualizar la contribución de cada producto a las ventas totales."
   ]
  },
  {
   "cell_type": "code",
   "execution_count": null,
   "metadata": {},
   "outputs": [],
   "source": []
  },
  {
   "cell_type": "markdown",
   "metadata": {},
   "source": [
    "Análisis de correlación con seaborn: Encuentra un conjunto de datos que incluya múltiples variables numéricas. Utiliza seaborn para crear un mapa de calor de correlación que muestre las relaciones entre estas variables. Luego, explora cómo las correlaciones pueden ayudarte a comprender mejor los datos y tomar decisiones informadas.\n"
   ]
  },
  {
   "cell_type": "code",
   "execution_count": null,
   "metadata": {},
   "outputs": [],
   "source": []
  }
 ],
 "metadata": {
  "language_info": {
   "name": "python"
  },
  "orig_nbformat": 4
 },
 "nbformat": 4,
 "nbformat_minor": 2
}
